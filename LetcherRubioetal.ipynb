{
 "cells": [
  {
   "cell_type": "code",
   "execution_count": 13,
   "metadata": {},
   "outputs": [],
   "source": [
    "import pandas as pd\n",
    "import matplotlib.pyplot as plt\n",
    "import seaborn as sns\n",
    "from sklearn.preprocessing import StandardScaler\n",
    "from sklearn.decomposition import PCA"
   ]
  },
  {
   "cell_type": "code",
   "execution_count": 14,
   "metadata": {},
   "outputs": [],
   "source": [
    "df = pd.read_excel('071621PsletcherLipidomics1_10.xls', header=16)\n",
    "controls = ['C1', 'C5', 'C6', 'C7', 'C9']\n",
    "intralipids = ['IL1', 'IL2', 'IL3', 'IL4', 'IL5']\n",
    "sample_names = controls + intralipids\n",
    "groups = {'C': controls, 'IL': intralipids}\n",
    "num_fatty_acid_columns = 4"
   ]
  },
  {
   "cell_type": "code",
   "execution_count": 15,
   "metadata": {},
   "outputs": [],
   "source": [
    "def strfilter(func, s: str) -> str:\n",
    "    \"\"\"\n",
    "    Return a string containing all characters in s such that func(s) is true.\n",
    "    \"\"\"\n",
    "    return ''.join(i for i in s if func(i))\n",
    "def average_samples(data):\n",
    "    for k, v in groups.items():\n",
    "        if len(v) > 1:\n",
    "            data[k] = data.loc[:, v].mean(axis=1)\n",
    "    return data\n",
    "def name_map(name: str) -> str:\n",
    "    for k, v in groups.items():\n",
    "        if name in v:\n",
    "            return k\n",
    "    return name"
   ]
  },
  {
   "cell_type": "code",
   "execution_count": 16,
   "metadata": {},
   "outputs": [],
   "source": [
    "# constants\n",
    "phospholipids = ['PC', 'PE', 'LPC', 'LPE', 'PS', 'LPS', 'PG', 'LPG', 'PA',\n",
    "                 'LPA', 'PI', 'LPI', 'PIP', 'PIP2', 'PIP3', 'CL', 'PGP',\n",
    "                 'PPA', 'CDP-DG']\n",
    "atom_masses = {'C': 12.011, 'N': 14.007, 'H': 1.008, 'O': 15.999, 'P': 30.974}\n",
    "fa = {'18:1': 'oleic acid', '16:0': 'palmitic acid', '18:2': 'linoleic acid',\n",
    "      '16:1': 'palmitoleic acid', '18:0': 'stearic acid', '20:4': 'ETA',\n",
    "      '14:0': 'myristic acid'}\n",
    "sample_columns = ['Area[c-' + str(sample + 1) + ']' for sample in range(0, len(sample_names))]\n",
    "fa_columns = ['FA' + str(i) for i in range(1, num_fatty_acid_columns + 1)]"
   ]
  },
  {
   "cell_type": "code",
   "execution_count": 17,
   "metadata": {},
   "outputs": [],
   "source": [
    "def sum_areas(data):\n",
    "    \"\"\"\n",
    "    Sum the areas corresponding to each fatty acid.\n",
    "    \n",
    "    Args:\n",
    "        data: a pandas dataframe with lipids as index and columns corresponding to\n",
    "        the fatty acids in each lipid and the area calculated for that lipid in each sample\n",
    "    Returns:\n",
    "        a new pandas dataframe with fatty acids as index and columns for each sample, where the\n",
    "        value at df.loc[fatty_acid, sample] is the sum of the areas for that sample in rows of\n",
    "        data where fatty_acid is one of the fatty acids in the lipid, counting multiple times if\n",
    "        the fatty acid appears multiple times in that lipid.\n",
    "    \"\"\"\n",
    "    # we treat '(12:2p)' and '(12:2)' as the same fatty acid\n",
    "    data.loc[:, fa_columns] = data.loc[:, fa_columns].applymap(standardize_formula)\n",
    "    dfs = [data[sample_columns].groupby(data[i]).sum()\n",
    "           for i in fa_columns]\n",
    "    return pd.concat(dfs).groupby(level=0).sum()"
   ]
  },
  {
   "cell_type": "code",
   "execution_count": 18,
   "metadata": {},
   "outputs": [],
   "source": [
    "def how_much_saturated(formula: str) -> str:\n",
    "    \"\"\"\n",
    "    From a formula of the form '(14:2)', extract the number of double bonds and return\n",
    "    the saturation level ('saturated', 'mono', or 'poly').\n",
    "    \"\"\"\n",
    "    double_bonds = int(formula.split(':')[1].split(' ')[0])\n",
    "    if double_bonds == 0:\n",
    "        return 'saturated'\n",
    "    elif double_bonds == 1:\n",
    "        return 'mono'\n",
    "    else:\n",
    "        return 'poly'"
   ]
  },
  {
   "cell_type": "code",
   "execution_count": 19,
   "metadata": {},
   "outputs": [],
   "source": [
    "def standardize_formula(formula: str) -> str:\n",
    "    \"\"\"\n",
    "    Transform formulas of the form '(12:20p)' to the form '12:20'.\n",
    "    \"\"\"\n",
    "    if pd.isna(formula):\n",
    "        return formula\n",
    "    a, b = formula.split(':')\n",
    "    a = strfilter(str.isdecimal, a)\n",
    "    b = strfilter(str.isdecimal, b)\n",
    "    return a + ':' + b"
   ]
  },
  {
   "cell_type": "code",
   "execution_count": 20,
   "metadata": {},
   "outputs": [],
   "source": [
    "def rename_parts(data):\n",
    "    \"\"\"\n",
    "    Replace the column names 'Area[c-1]', 'Area[c-2]', etc with names corresponding to each sample,\n",
    "    and add the names of some common fatty acids to their formulas.\n",
    "    \"\"\"\n",
    "    data = data.rename(index={i: i + ' (' + fa[i] + ')'\n",
    "                       if i in fa.keys()\n",
    "                       else i for i in data.index})\n",
    "    data.columns = sample_names\n",
    "    return data"
   ]
  },
  {
   "cell_type": "code",
   "execution_count": 21,
   "metadata": {},
   "outputs": [],
   "source": [
    "df_phospho = df[df['Class'].map(lambda x: x in phospholipids)].reset_index()\n",
    "df_TG = df[df['Class'] == 'TG'].reset_index()\n",
    "areas_tg = rename_parts(sum_areas(df_TG))\n",
    "areas_phospho = rename_parts(sum_areas(df_phospho))"
   ]
  },
  {
   "cell_type": "code",
   "execution_count": 22,
   "metadata": {},
   "outputs": [],
   "source": [
    "a = areas_tg.groupby([how_much_saturated(x) for x in areas_tg.index]).sum()\n",
    "a = a / a.sum()"
   ]
  },
  {
   "cell_type": "code",
   "execution_count": 23,
   "metadata": {},
   "outputs": [],
   "source": [
    "b = areas_phospho.groupby([how_much_saturated(x) for x in areas_phospho.index]).sum()\n",
    "b = b / b.sum()"
   ]
  },
  {
   "cell_type": "code",
   "execution_count": 24,
   "metadata": {},
   "outputs": [],
   "source": [
    "a.to_excel(\"triglycerides_saturated.xlsx\")\n",
    "b.to_excel(\"phospholipids_saturated.xlsx\")\n",
    "areas_tg.to_excel(\"triglycerides_areas.xlsx\")\n",
    "areas_phospho.to_excel(\"phospholipids_areas.xlsx\")"
   ]
  },
  {
   "cell_type": "code",
   "execution_count": null,
   "metadata": {},
   "outputs": [],
   "source": []
  }
 ],
 "metadata": {
  "kernelspec": {
   "display_name": "Python 3",
   "language": "python",
   "name": "python3"
  },
  "language_info": {
   "codemirror_mode": {
    "name": "ipython",
    "version": 3
   },
   "file_extension": ".py",
   "mimetype": "text/x-python",
   "name": "python",
   "nbconvert_exporter": "python",
   "pygments_lexer": "ipython3",
   "version": "3.8.5"
  }
 },
 "nbformat": 4,
 "nbformat_minor": 4
}
